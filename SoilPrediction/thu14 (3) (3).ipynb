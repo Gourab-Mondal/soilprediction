{
 "cells": [
  {
   "cell_type": "code",
   "execution_count": 1,
   "id": "ed371315",
   "metadata": {
    "scrolled": true
   },
   "outputs": [
    {
     "name": "stdout",
     "output_type": "stream",
     "text": [
      "Requirement already satisfied: openpyxl in c:\\users\\tanis\\anaconda3\\lib\\site-packages (3.1.5)\n",
      "Requirement already satisfied: et-xmlfile in c:\\users\\tanis\\anaconda3\\lib\\site-packages (from openpyxl) (1.1.0)\n"
     ]
    }
   ],
   "source": [
    "!pip install openpyxl\n"
   ]
  },
  {
   "cell_type": "code",
   "execution_count": 2,
   "id": "38d7c9e6-a2ae-4c0e-a5ed-24fe78db7f00",
   "metadata": {
    "scrolled": true
   },
   "outputs": [
    {
     "name": "stderr",
     "output_type": "stream",
     "text": [
      "C:\\Users\\tanis\\anaconda3\\lib\\site-packages\\pandas\\core\\arrays\\masked.py:60: UserWarning: Pandas requires version '1.3.6' or newer of 'bottleneck' (version '1.3.5' currently installed).\n",
      "  from pandas.core import (\n"
     ]
    },
    {
     "name": "stdout",
     "output_type": "stream",
     "text": [
      "Size of the data :  (97, 5)\n",
      "Column names: Index(['created_at', 'entry_id', 'soilMoisture', 'fTemperature',\n",
      "       'Light Intensity'],\n",
      "      dtype='object')\n",
      "<class 'pandas.core.frame.DataFrame'>\n",
      "RangeIndex: 97 entries, 0 to 96\n",
      "Data columns (total 5 columns):\n",
      " #   Column           Non-Null Count  Dtype  \n",
      "---  ------           --------------  -----  \n",
      " 0   created_at       97 non-null     object \n",
      " 1   entry_id         97 non-null     int64  \n",
      " 2   soilMoisture     97 non-null     int64  \n",
      " 3   fTemperature     97 non-null     float64\n",
      " 4   Light Intensity  97 non-null     int64  \n",
      "dtypes: float64(1), int64(3), object(1)\n",
      "memory usage: 3.9+ KB\n",
      "None\n",
      "        entry_id  soilMoisture  fTemperature  Light Intensity\n",
      "count  97.000000     97.000000     97.000000        97.000000\n",
      "mean   49.000000      0.701031     25.002062         0.680412\n",
      "std    28.145456      0.914751      0.286131         0.907680\n",
      "min     1.000000      0.000000     24.500000         0.000000\n",
      "25%    25.000000      0.000000     24.800000         0.000000\n",
      "50%    49.000000      0.000000     25.000000         0.000000\n",
      "75%    73.000000      2.000000     25.200000         2.000000\n",
      "max    97.000000      2.000000     25.400000         2.000000\n",
      "label\n",
      "1    61\n",
      "0    36\n",
      "Name: count, dtype: int64\n",
      "Target variable frequency distribution : \n",
      " label\n",
      "1    61\n",
      "0    36\n",
      "Name: count, dtype: int64\n"
     ]
    }
   ],
   "source": [
    "import pandas as pd\n",
    "import matplotlib.pyplot as plt\n",
    "import seaborn as sns\n",
    "\n",
    "# Load your CSV file\n",
    "import pandas as pd\n",
    "\n",
    "defaulter_df = pd.read_csv(\"test (2).csv\")\n",
    "\n",
    "\n",
    "# Strip any extra whitespace in column names\n",
    "defaulter_df.columns = defaulter_df.columns.str.strip()\n",
    "\n",
    "# Print basic info\n",
    "print(\"Size of the data : \", defaulter_df.shape)\n",
    "print(\"Column names:\", defaulter_df.columns)\n",
    "print(defaulter_df.info())\n",
    "print(defaulter_df.describe())\n",
    "\n",
    "# Create label based on multiple conditions (Option 2)\n",
    "# Condition: soilMoisture < 1 and Light Intensity > 1 → label = 1 (e.g., needs irrigation), else 0\n",
    "# Example: mark as “needs irrigation” if soilMoisture < 1 OR light intensity low\n",
    "defaulter_df[\"label\"] = (\n",
    "    (defaulter_df[\"soilMoisture\"] < 1) |\n",
    "      (defaulter_df[\"fTemperature\"] > 30)|\n",
    "    (defaulter_df[\"Light Intensity\"] == 0)\n",
    ").astype(int)\n",
    "print(defaulter_df[\"label\"].value_counts())\n",
    "\n",
    "# Show target variable distribution\n",
    "print(\"Target variable frequency distribution : \\n\", defaulter_df[\"label\"].value_counts())\n"
   ]
  },
  {
   "cell_type": "code",
   "execution_count": 3,
   "id": "14f0299f-73b9-4f2b-8f9a-338016e0d45b",
   "metadata": {},
   "outputs": [
    {
     "data": {
      "image/png": "[encoded data removed]",
      "text/plain": [
       "<Figure size 1000x800 with 1 Axes>"
      ]
     },
     "metadata": {},
     "output_type": "display_data"
    }
   ],
   "source": [
    "plt.figure(figsize = (10,8))\n",
    "sns.countplot(defaulter_df[\"fTemperature\"])\n",
    "plt.title(\"Frequency distribution of the target variable - Default\")\n",
    "plt.show()"
   ]
  },
  {
   "cell_type": "code",
   "execution_count": 4,
   "id": "73b0ceec-4b0d-4688-8f39-9fb30a607b7f",
   "metadata": {},
   "outputs": [
    {
     "data": {
      "text/html": [
       "<div>\n",
       "<style scoped>\n",
       "    .dataframe tbody tr th:only-of-type {\n",
       "        vertical-align: middle;\n",
       "    }\n",
       "\n",
       "    .dataframe tbody tr th {\n",
       "        vertical-align: top;\n",
       "    }\n",
       "\n",
       "    .dataframe thead th {\n",
       "        text-align: right;\n",
       "    }\n",
       "</style>\n",
       "<table border=\"1\" class=\"dataframe\">\n",
       "  <thead>\n",
       "    <tr style=\"text-align: right;\">\n",
       "      <th></th>\n",
       "      <th>entry_id</th>\n",
       "      <th>soilMoisture</th>\n",
       "      <th>fTemperature</th>\n",
       "      <th>Light Intensity</th>\n",
       "      <th>label</th>\n",
       "    </tr>\n",
       "  </thead>\n",
       "  <tbody>\n",
       "    <tr>\n",
       "      <th>count</th>\n",
       "      <td>97.000000</td>\n",
       "      <td>97.000000</td>\n",
       "      <td>97.000000</td>\n",
       "      <td>97.000000</td>\n",
       "      <td>97.000000</td>\n",
       "    </tr>\n",
       "    <tr>\n",
       "      <th>mean</th>\n",
       "      <td>49.000000</td>\n",
       "      <td>0.701031</td>\n",
       "      <td>25.002062</td>\n",
       "      <td>0.680412</td>\n",
       "      <td>0.628866</td>\n",
       "    </tr>\n",
       "    <tr>\n",
       "      <th>std</th>\n",
       "      <td>28.145456</td>\n",
       "      <td>0.914751</td>\n",
       "      <td>0.286131</td>\n",
       "      <td>0.907680</td>\n",
       "      <td>0.485618</td>\n",
       "    </tr>\n",
       "    <tr>\n",
       "      <th>min</th>\n",
       "      <td>1.000000</td>\n",
       "      <td>0.000000</td>\n",
       "      <td>24.500000</td>\n",
       "      <td>0.000000</td>\n",
       "      <td>0.000000</td>\n",
       "    </tr>\n",
       "    <tr>\n",
       "      <th>25%</th>\n",
       "      <td>25.000000</td>\n",
       "      <td>0.000000</td>\n",
       "      <td>24.800000</td>\n",
       "      <td>0.000000</td>\n",
       "      <td>0.000000</td>\n",
       "    </tr>\n",
       "    <tr>\n",
       "      <th>50%</th>\n",
       "      <td>49.000000</td>\n",
       "      <td>0.000000</td>\n",
       "      <td>25.000000</td>\n",
       "      <td>0.000000</td>\n",
       "      <td>1.000000</td>\n",
       "    </tr>\n",
       "    <tr>\n",
       "      <th>75%</th>\n",
       "      <td>73.000000</td>\n",
       "      <td>2.000000</td>\n",
       "      <td>25.200000</td>\n",
       "      <td>2.000000</td>\n",
       "      <td>1.000000</td>\n",
       "    </tr>\n",
       "    <tr>\n",
       "      <th>max</th>\n",
       "      <td>97.000000</td>\n",
       "      <td>2.000000</td>\n",
       "      <td>25.400000</td>\n",
       "      <td>2.000000</td>\n",
       "      <td>1.000000</td>\n",
       "    </tr>\n",
       "  </tbody>\n",
       "</table>\n",
       "</div>"
      ],
      "text/plain": [
       "        entry_id  soilMoisture  fTemperature  Light Intensity      label\n",
       "count  97.000000     97.000000     97.000000        97.000000  97.000000\n",
       "mean   49.000000      0.701031     25.002062         0.680412   0.628866\n",
       "std    28.145456      0.914751      0.286131         0.907680   0.485618\n",
       "min     1.000000      0.000000     24.500000         0.000000   0.000000\n",
       "25%    25.000000      0.000000     24.800000         0.000000   0.000000\n",
       "50%    49.000000      0.000000     25.000000         0.000000   1.000000\n",
       "75%    73.000000      2.000000     25.200000         2.000000   1.000000\n",
       "max    97.000000      2.000000     25.400000         2.000000   1.000000"
      ]
     },
     "execution_count": 4,
     "metadata": {},
     "output_type": "execute_result"
    }
   ],
   "source": []
  },
  {
   "cell_type": "code",
   "execution_count": 5,
   "id": "e6b5897f-b575-4298-a8bc-c6f47ed499f4",
   "metadata": {},
   "outputs": [
    {
     "data": {
      "text/html": [
       "<div>\n",
       "<style scoped>\n",
       "    .dataframe tbody tr th:only-of-type {\n",
       "        vertical-align: middle;\n",
       "    }\n",
       "\n",
       "    .dataframe tbody tr th {\n",
       "        vertical-align: top;\n",
       "    }\n",
       "\n",
       "    .dataframe thead th {\n",
       "        text-align: right;\n",
       "    }\n",
       "</style>\n",
       "<table border=\"1\" class=\"dataframe\">\n",
       "  <thead>\n",
       "    <tr style=\"text-align: right;\">\n",
       "      <th></th>\n",
       "      <th>created_at</th>\n",
       "      <th>entry_id</th>\n",
       "      <th>soilMoisture</th>\n",
       "      <th>fTemperature</th>\n",
       "      <th>Light Intensity</th>\n",
       "      <th>label</th>\n",
       "    </tr>\n",
       "  </thead>\n",
       "  <tbody>\n",
       "    <tr>\n",
       "      <th>0</th>\n",
       "      <td>2025-06-09 08:20:15 UTC</td>\n",
       "      <td>1</td>\n",
       "      <td>0</td>\n",
       "      <td>24.7</td>\n",
       "      <td>0</td>\n",
       "      <td>1</td>\n",
       "    </tr>\n",
       "    <tr>\n",
       "      <th>1</th>\n",
       "      <td>2025-06-09 08:20:45 UTC</td>\n",
       "      <td>2</td>\n",
       "      <td>0</td>\n",
       "      <td>25.0</td>\n",
       "      <td>0</td>\n",
       "      <td>1</td>\n",
       "    </tr>\n",
       "    <tr>\n",
       "      <th>2</th>\n",
       "      <td>2025-06-09 08:21:15 UTC</td>\n",
       "      <td>3</td>\n",
       "      <td>0</td>\n",
       "      <td>25.3</td>\n",
       "      <td>0</td>\n",
       "      <td>1</td>\n",
       "    </tr>\n",
       "    <tr>\n",
       "      <th>3</th>\n",
       "      <td>2025-06-09 08:21:30 UTC</td>\n",
       "      <td>4</td>\n",
       "      <td>0</td>\n",
       "      <td>24.8</td>\n",
       "      <td>0</td>\n",
       "      <td>1</td>\n",
       "    </tr>\n",
       "    <tr>\n",
       "      <th>4</th>\n",
       "      <td>2025-06-09 08:22:00 UTC</td>\n",
       "      <td>5</td>\n",
       "      <td>0</td>\n",
       "      <td>25.1</td>\n",
       "      <td>0</td>\n",
       "      <td>1</td>\n",
       "    </tr>\n",
       "    <tr>\n",
       "      <th>5</th>\n",
       "      <td>2025-06-09 08:22:30 UTC</td>\n",
       "      <td>6</td>\n",
       "      <td>0</td>\n",
       "      <td>24.5</td>\n",
       "      <td>0</td>\n",
       "      <td>1</td>\n",
       "    </tr>\n",
       "    <tr>\n",
       "      <th>6</th>\n",
       "      <td>2025-06-09 08:22:45 UTC</td>\n",
       "      <td>7</td>\n",
       "      <td>0</td>\n",
       "      <td>25.0</td>\n",
       "      <td>0</td>\n",
       "      <td>1</td>\n",
       "    </tr>\n",
       "    <tr>\n",
       "      <th>7</th>\n",
       "      <td>2025-06-09 08:23:15 UTC</td>\n",
       "      <td>8</td>\n",
       "      <td>0</td>\n",
       "      <td>24.6</td>\n",
       "      <td>0</td>\n",
       "      <td>1</td>\n",
       "    </tr>\n",
       "    <tr>\n",
       "      <th>8</th>\n",
       "      <td>2025-06-09 08:23:45 UTC</td>\n",
       "      <td>9</td>\n",
       "      <td>0</td>\n",
       "      <td>24.9</td>\n",
       "      <td>0</td>\n",
       "      <td>1</td>\n",
       "    </tr>\n",
       "    <tr>\n",
       "      <th>9</th>\n",
       "      <td>2025-06-09 08:24:00 UTC</td>\n",
       "      <td>10</td>\n",
       "      <td>0</td>\n",
       "      <td>25.4</td>\n",
       "      <td>0</td>\n",
       "      <td>1</td>\n",
       "    </tr>\n",
       "  </tbody>\n",
       "</table>\n",
       "</div>"
      ],
      "text/plain": [
       "                created_at  entry_id  soilMoisture  fTemperature  \\\n",
       "0  2025-06-09 08:20:15 UTC         1             0          24.7   \n",
       "1  2025-06-09 08:20:45 UTC         2             0          25.0   \n",
       "2  2025-06-09 08:21:15 UTC         3             0          25.3   \n",
       "3  2025-06-09 08:21:30 UTC         4             0          24.8   \n",
       "4  2025-06-09 08:22:00 UTC         5             0          25.1   \n",
       "5  2025-06-09 08:22:30 UTC         6             0          24.5   \n",
       "6  2025-06-09 08:22:45 UTC         7             0          25.0   \n",
       "7  2025-06-09 08:23:15 UTC         8             0          24.6   \n",
       "8  2025-06-09 08:23:45 UTC         9             0          24.9   \n",
       "9  2025-06-09 08:24:00 UTC        10             0          25.4   \n",
       "\n",
       "   Light Intensity  label  \n",
       "0                0      1  \n",
       "1                0      1  \n",
       "2                0      1  \n",
       "3                0      1  \n",
       "4                0      1  \n",
       "5                0      1  \n",
       "6                0      1  \n",
       "7                0      1  \n",
       "8                0      1  \n",
       "9                0      1  "
      ]
     },
     "execution_count": 5,
     "metadata": {},
     "output_type": "execute_result"
    }
   ],
   "source": []
  },
  {
   "cell_type": "code",
   "execution_count": 6,
   "id": "e61c6c5a-10e2-4b76-be08-e8230bfb664a",
   "metadata": {},
   "outputs": [
    {
     "name": "stdout",
     "output_type": "stream",
     "text": [
      "label\n",
      "1    61\n",
      "0    36\n",
      "Name: count, dtype: int64\n"
     ]
    }
   ],
   "source": [
    "import pandas as pd\n",
    "\n",
    "# Assuming your data is stored in a DataFrame called df\n",
    "label_distribution = defaulter_df['label'].value_counts()\n",
    "print(label_distribution)"
   ]
  },
  {
   "cell_type": "code",
   "execution_count": 1,
   "id": "bd8832ad-dbfc-4c98-9385-4907d259984e",
   "metadata": {},
   "outputs": [
    {
     "ename": "NameError",
     "evalue": "name 'defaulter_df' is not defined",
     "output_type": "error",
     "traceback": [
      "\u001b[1;31m---------------------------------------------------------------------------\u001b[0m",
      "\u001b[1;31mNameError\u001b[0m                                 Traceback (most recent call last)",
      "Cell \u001b[1;32mIn[1], line 1\u001b[0m\n\u001b[1;32m----> 1\u001b[0m \u001b[38;5;28mprint\u001b[39m(\u001b[38;5;124m\"\u001b[39m\u001b[38;5;124mTarget variable frequency distribution : \u001b[39m\u001b[38;5;130;01m\\n\u001b[39;00m\u001b[38;5;124m\"\u001b[39m, \u001b[43mdefaulter_df\u001b[49m[\u001b[38;5;124m\"\u001b[39m\u001b[38;5;124mlabel\u001b[39m\u001b[38;5;124m\"\u001b[39m]\u001b[38;5;241m.\u001b[39mvalue_counts())\n",
      "\u001b[1;31mNameError\u001b[0m: name 'defaulter_df' is not defined"
     ]
    }
   ],
   "source": [
    "print(\"Target variable frequency distribution : \\n\", defaulter_df[\"label\"].value_counts())"
   ]
  },
  {
   "cell_type": "code",
   "execution_count": 8,
   "id": "76b27341-7386-4cc8-b3cd-b6e77b78b4d9",
   "metadata": {},
   "outputs": [
    {
     "name": "stdout",
     "output_type": "stream",
     "text": [
      "Size of the data :  (97, 6)\n"
     ]
    }
   ],
   "source": [
    "print(\"Size of the data : \", defaulter_df.shape)"
   ]
  },
  {
   "cell_type": "code",
   "execution_count": 9,
   "id": "f0966a81-f2a8-4cc0-8e8e-1111b05bc46d",
   "metadata": {},
   "outputs": [
    {
     "name": "stdout",
     "output_type": "stream",
     "text": [
      "                 created_at  entry_id  soilMoisture  fTemperature  \\\n",
      "0   2025-06-09 08:20:15 UTC         1             0          24.7   \n",
      "1   2025-06-09 08:20:45 UTC         2             0          25.0   \n",
      "2   2025-06-09 08:21:15 UTC         3             0          25.3   \n",
      "3   2025-06-09 08:21:30 UTC         4             0          24.8   \n",
      "4   2025-06-09 08:22:00 UTC         5             0          25.1   \n",
      "..                      ...       ...           ...           ...   \n",
      "92  2025-06-09 08:59:11 UTC        93             0          24.7   \n",
      "93  2025-06-09 08:59:26 UTC        94             2          25.1   \n",
      "94  2025-06-09 08:59:41 UTC        95             2          25.2   \n",
      "95  2025-06-09 09:00:11 UTC        96             1          24.8   \n",
      "96  2025-06-09 09:00:26 UTC        97             2          25.4   \n",
      "\n",
      "    Light Intensity  label  \n",
      "0                 0      1  \n",
      "1                 0      1  \n",
      "2                 0      1  \n",
      "3                 0      1  \n",
      "4                 0      1  \n",
      "..              ...    ...  \n",
      "92                0      1  \n",
      "93                2      0  \n",
      "94                2      0  \n",
      "95                2      0  \n",
      "96                2      0  \n",
      "\n",
      "[97 rows x 6 columns]\n"
     ]
    }
   ],
   "source": [
    "from sklearn.preprocessing import LabelEncoder\n",
    "\n",
    "#perform label encoding across team, position, and all_star columns\n",
    "defaulter_df[['label']] = defaulter_df[['label']].apply(LabelEncoder().fit_transform)\n",
    "\n",
    "#view udpated DataFrame\n",
    "print(defaulter_df)"
   ]
  },
  {
   "cell_type": "code",
   "execution_count": 10,
   "id": "471685bd-5e4c-41b2-a6f7-9ae9db9704d3",
   "metadata": {},
   "outputs": [
    {
     "data": {
      "text/html": [
       "<div>\n",
       "<style scoped>\n",
       "    .dataframe tbody tr th:only-of-type {\n",
       "        vertical-align: middle;\n",
       "    }\n",
       "\n",
       "    .dataframe tbody tr th {\n",
       "        vertical-align: top;\n",
       "    }\n",
       "\n",
       "    .dataframe thead th {\n",
       "        text-align: right;\n",
       "    }\n",
       "</style>\n",
       "<table border=\"1\" class=\"dataframe\">\n",
       "  <thead>\n",
       "    <tr style=\"text-align: right;\">\n",
       "      <th></th>\n",
       "      <th>soilMoisture</th>\n",
       "      <th>fTemperature</th>\n",
       "      <th>Light Intensity</th>\n",
       "      <th>label</th>\n",
       "    </tr>\n",
       "  </thead>\n",
       "  <tbody>\n",
       "    <tr>\n",
       "      <th>soilMoisture</th>\n",
       "      <td>1.000000</td>\n",
       "      <td>-0.033439</td>\n",
       "      <td>0.912469</td>\n",
       "      <td>-0.932414</td>\n",
       "    </tr>\n",
       "    <tr>\n",
       "      <th>fTemperature</th>\n",
       "      <td>-0.033439</td>\n",
       "      <td>1.000000</td>\n",
       "      <td>-0.013480</td>\n",
       "      <td>-0.001932</td>\n",
       "    </tr>\n",
       "    <tr>\n",
       "      <th>Light Intensity</th>\n",
       "      <td>0.912469</td>\n",
       "      <td>-0.013480</td>\n",
       "      <td>1.000000</td>\n",
       "      <td>-0.957220</td>\n",
       "    </tr>\n",
       "    <tr>\n",
       "      <th>label</th>\n",
       "      <td>-0.932414</td>\n",
       "      <td>-0.001932</td>\n",
       "      <td>-0.957220</td>\n",
       "      <td>1.000000</td>\n",
       "    </tr>\n",
       "  </tbody>\n",
       "</table>\n",
       "</div>"
      ],
      "text/plain": [
       "                 soilMoisture  fTemperature  Light Intensity     label\n",
       "soilMoisture         1.000000     -0.033439         0.912469 -0.932414\n",
       "fTemperature        -0.033439      1.000000        -0.013480 -0.001932\n",
       "Light Intensity      0.912469     -0.013480         1.000000 -0.957220\n",
       "label               -0.932414     -0.001932        -0.957220  1.000000"
      ]
     },
     "execution_count": 10,
     "metadata": {},
     "output_type": "execute_result"
    }
   ],
   "source": [
    "cn = defaulter_df.drop(columns=['entry_id']).select_dtypes(include='number').corr()\n",
    "\n",
    "cn\n"
   ]
  },
  {
   "cell_type": "code",
   "execution_count": 11,
   "id": "bdda5cda-ea16-4b60-855a-bfec70faef1d",
   "metadata": {},
   "outputs": [
    {
     "data": {
      "image/png": "[encoded data removed]",
      "text/plain": [
       "<Figure size 1800x1800 with 2 Axes>"
      ]
     },
     "metadata": {},
     "output_type": "display_data"
    }
   ],
   "source": [
    "cmap=sns.diverging_palette(260,-10,s=50, l=75, n=6,as_cmap=True)\n",
    "plt.subplots(figsize=(18,18))\n",
    "sns.heatmap(cn,annot=True, square=True)\n",
    "plt.show()"
   ]
  },
  {
   "cell_type": "code",
   "execution_count": 12,
   "id": "4e5cde07-6067-46e9-a4fb-dae1155b6239",
   "metadata": {},
   "outputs": [
    {
     "name": "stdout",
     "output_type": "stream",
     "text": [
      "Target variable frequency distribution : \n",
      " label\n",
      "1    61\n",
      "0    36\n",
      "Name: count, dtype: int64\n"
     ]
    }
   ],
   "source": [
    "print(\"Target variable frequency distribution : \\n\", defaulter_df[\"label\"].value_counts())"
   ]
  },
  {
   "cell_type": "code",
   "execution_count": 13,
   "id": "9e439238-e3b5-49b1-8727-c60c58a20248",
   "metadata": {},
   "outputs": [
    {
     "data": {
      "image/png": "[encoded data removed]",
      "text/plain": [
       "<Figure size 1600x1600 with 2 Axes>"
      ]
     },
     "metadata": {},
     "output_type": "display_data"
    },
    {
     "data": {
      "text/plain": [
       "<Figure size 640x480 with 0 Axes>"
      ]
     },
     "metadata": {},
     "output_type": "display_data"
    }
   ],
   "source": [
    "plt.figure(figsize = (16,16))\n",
    "sns.heatmap(cn, annot = True)\n",
    "plt.show()\n",
    "plt.savefig('my_plot4.png')"
   ]
  },
  {
   "cell_type": "code",
   "execution_count": 14,
   "id": "44ca083a-6297-42fd-b451-ca88ed5800e5",
   "metadata": {
    "scrolled": true
   },
   "outputs": [
    {
     "ename": "FileNotFoundError",
     "evalue": "[Errno 2] No such file or directory: 'C:\\\\Users\\\\Admin\\\\Desktop\\\\my_plot5.png'",
     "output_type": "error",
     "traceback": [
      "\u001b[1;31m---------------------------------------------------------------------------\u001b[0m",
      "\u001b[1;31mFileNotFoundError\u001b[0m                         Traceback (most recent call last)",
      "Cell \u001b[1;32mIn[14], line 10\u001b[0m\n\u001b[0;32m      7\u001b[0m defaulter_df_clean\u001b[38;5;241m.\u001b[39mhist(bins\u001b[38;5;241m=\u001b[39m\u001b[38;5;241m30\u001b[39m, figsize\u001b[38;5;241m=\u001b[39m(\u001b[38;5;241m20\u001b[39m, \u001b[38;5;241m20\u001b[39m), color\u001b[38;5;241m=\u001b[39m\u001b[38;5;124m'\u001b[39m\u001b[38;5;124mb\u001b[39m\u001b[38;5;124m'\u001b[39m)\n\u001b[0;32m      9\u001b[0m \u001b[38;5;66;03m# Save before showing\u001b[39;00m\n\u001b[1;32m---> 10\u001b[0m \u001b[43mplt\u001b[49m\u001b[38;5;241;43m.\u001b[39;49m\u001b[43msavefig\u001b[49m\u001b[43m(\u001b[49m\u001b[38;5;124;43m'\u001b[39;49m\u001b[38;5;124;43mC:\u001b[39;49m\u001b[38;5;130;43;01m\\\\\u001b[39;49;00m\u001b[38;5;124;43mUsers\u001b[39;49m\u001b[38;5;130;43;01m\\\\\u001b[39;49;00m\u001b[38;5;124;43mAdmin\u001b[39;49m\u001b[38;5;130;43;01m\\\\\u001b[39;49;00m\u001b[38;5;124;43mDesktop\u001b[39;49m\u001b[38;5;130;43;01m\\\\\u001b[39;49;00m\u001b[38;5;124;43mmy_plot5.png\u001b[39;49m\u001b[38;5;124;43m'\u001b[39;49m\u001b[43m)\u001b[49m\n\u001b[0;32m     12\u001b[0m \u001b[38;5;66;03m# Display the histograms\u001b[39;00m\n\u001b[0;32m     13\u001b[0m plt\u001b[38;5;241m.\u001b[39mshow()\n",
      "File \u001b[1;32m~\\anaconda3\\lib\\site-packages\\matplotlib\\pyplot.py:996\u001b[0m, in \u001b[0;36msavefig\u001b[1;34m(*args, **kwargs)\u001b[0m\n\u001b[0;32m    993\u001b[0m \u001b[38;5;129m@_copy_docstring_and_deprecators\u001b[39m(Figure\u001b[38;5;241m.\u001b[39msavefig)\n\u001b[0;32m    994\u001b[0m \u001b[38;5;28;01mdef\u001b[39;00m \u001b[38;5;21msavefig\u001b[39m(\u001b[38;5;241m*\u001b[39margs, \u001b[38;5;241m*\u001b[39m\u001b[38;5;241m*\u001b[39mkwargs):\n\u001b[0;32m    995\u001b[0m     fig \u001b[38;5;241m=\u001b[39m gcf()\n\u001b[1;32m--> 996\u001b[0m     res \u001b[38;5;241m=\u001b[39m fig\u001b[38;5;241m.\u001b[39msavefig(\u001b[38;5;241m*\u001b[39margs, \u001b[38;5;241m*\u001b[39m\u001b[38;5;241m*\u001b[39mkwargs)\n\u001b[0;32m    997\u001b[0m     fig\u001b[38;5;241m.\u001b[39mcanvas\u001b[38;5;241m.\u001b[39mdraw_idle()  \u001b[38;5;66;03m# Need this if 'transparent=True', to reset colors.\u001b[39;00m\n\u001b[0;32m    998\u001b[0m     \u001b[38;5;28;01mreturn\u001b[39;00m res\n",
      "File \u001b[1;32m~\\anaconda3\\lib\\site-packages\\matplotlib\\figure.py:3328\u001b[0m, in \u001b[0;36mFigure.savefig\u001b[1;34m(self, fname, transparent, **kwargs)\u001b[0m\n\u001b[0;32m   3324\u001b[0m     \u001b[38;5;28;01mfor\u001b[39;00m ax \u001b[38;5;129;01min\u001b[39;00m \u001b[38;5;28mself\u001b[39m\u001b[38;5;241m.\u001b[39maxes:\n\u001b[0;32m   3325\u001b[0m         stack\u001b[38;5;241m.\u001b[39menter_context(\n\u001b[0;32m   3326\u001b[0m             ax\u001b[38;5;241m.\u001b[39mpatch\u001b[38;5;241m.\u001b[39m_cm_set(facecolor\u001b[38;5;241m=\u001b[39m\u001b[38;5;124m'\u001b[39m\u001b[38;5;124mnone\u001b[39m\u001b[38;5;124m'\u001b[39m, edgecolor\u001b[38;5;241m=\u001b[39m\u001b[38;5;124m'\u001b[39m\u001b[38;5;124mnone\u001b[39m\u001b[38;5;124m'\u001b[39m))\n\u001b[1;32m-> 3328\u001b[0m \u001b[38;5;28mself\u001b[39m\u001b[38;5;241m.\u001b[39mcanvas\u001b[38;5;241m.\u001b[39mprint_figure(fname, \u001b[38;5;241m*\u001b[39m\u001b[38;5;241m*\u001b[39mkwargs)\n",
      "File \u001b[1;32m~\\anaconda3\\lib\\site-packages\\matplotlib\\backend_bases.py:2362\u001b[0m, in \u001b[0;36mFigureCanvasBase.print_figure\u001b[1;34m(self, filename, dpi, facecolor, edgecolor, orientation, format, bbox_inches, pad_inches, bbox_extra_artists, backend, **kwargs)\u001b[0m\n\u001b[0;32m   2358\u001b[0m \u001b[38;5;28;01mtry\u001b[39;00m:\n\u001b[0;32m   2359\u001b[0m     \u001b[38;5;66;03m# _get_renderer may change the figure dpi (as vector formats\u001b[39;00m\n\u001b[0;32m   2360\u001b[0m     \u001b[38;5;66;03m# force the figure dpi to 72), so we need to set it again here.\u001b[39;00m\n\u001b[0;32m   2361\u001b[0m     \u001b[38;5;28;01mwith\u001b[39;00m cbook\u001b[38;5;241m.\u001b[39m_setattr_cm(\u001b[38;5;28mself\u001b[39m\u001b[38;5;241m.\u001b[39mfigure, dpi\u001b[38;5;241m=\u001b[39mdpi):\n\u001b[1;32m-> 2362\u001b[0m         result \u001b[38;5;241m=\u001b[39m print_method(\n\u001b[0;32m   2363\u001b[0m             filename,\n\u001b[0;32m   2364\u001b[0m             facecolor\u001b[38;5;241m=\u001b[39mfacecolor,\n\u001b[0;32m   2365\u001b[0m             edgecolor\u001b[38;5;241m=\u001b[39medgecolor,\n\u001b[0;32m   2366\u001b[0m             orientation\u001b[38;5;241m=\u001b[39morientation,\n\u001b[0;32m   2367\u001b[0m             bbox_inches_restore\u001b[38;5;241m=\u001b[39m_bbox_inches_restore,\n\u001b[0;32m   2368\u001b[0m             \u001b[38;5;241m*\u001b[39m\u001b[38;5;241m*\u001b[39mkwargs)\n\u001b[0;32m   2369\u001b[0m \u001b[38;5;28;01mfinally\u001b[39;00m:\n\u001b[0;32m   2370\u001b[0m     \u001b[38;5;28;01mif\u001b[39;00m bbox_inches \u001b[38;5;129;01mand\u001b[39;00m restore_bbox:\n",
      "File \u001b[1;32m~\\anaconda3\\lib\\site-packages\\matplotlib\\backend_bases.py:2228\u001b[0m, in \u001b[0;36mFigureCanvasBase._switch_canvas_and_return_print_method.<locals>.<lambda>\u001b[1;34m(*args, **kwargs)\u001b[0m\n\u001b[0;32m   2224\u001b[0m     optional_kws \u001b[38;5;241m=\u001b[39m {  \u001b[38;5;66;03m# Passed by print_figure for other renderers.\u001b[39;00m\n\u001b[0;32m   2225\u001b[0m         \u001b[38;5;124m\"\u001b[39m\u001b[38;5;124mdpi\u001b[39m\u001b[38;5;124m\"\u001b[39m, \u001b[38;5;124m\"\u001b[39m\u001b[38;5;124mfacecolor\u001b[39m\u001b[38;5;124m\"\u001b[39m, \u001b[38;5;124m\"\u001b[39m\u001b[38;5;124medgecolor\u001b[39m\u001b[38;5;124m\"\u001b[39m, \u001b[38;5;124m\"\u001b[39m\u001b[38;5;124morientation\u001b[39m\u001b[38;5;124m\"\u001b[39m,\n\u001b[0;32m   2226\u001b[0m         \u001b[38;5;124m\"\u001b[39m\u001b[38;5;124mbbox_inches_restore\u001b[39m\u001b[38;5;124m\"\u001b[39m}\n\u001b[0;32m   2227\u001b[0m     skip \u001b[38;5;241m=\u001b[39m optional_kws \u001b[38;5;241m-\u001b[39m {\u001b[38;5;241m*\u001b[39minspect\u001b[38;5;241m.\u001b[39msignature(meth)\u001b[38;5;241m.\u001b[39mparameters}\n\u001b[1;32m-> 2228\u001b[0m     print_method \u001b[38;5;241m=\u001b[39m functools\u001b[38;5;241m.\u001b[39mwraps(meth)(\u001b[38;5;28;01mlambda\u001b[39;00m \u001b[38;5;241m*\u001b[39margs, \u001b[38;5;241m*\u001b[39m\u001b[38;5;241m*\u001b[39mkwargs: meth(\n\u001b[0;32m   2229\u001b[0m         \u001b[38;5;241m*\u001b[39margs, \u001b[38;5;241m*\u001b[39m\u001b[38;5;241m*\u001b[39m{k: v \u001b[38;5;28;01mfor\u001b[39;00m k, v \u001b[38;5;129;01min\u001b[39;00m kwargs\u001b[38;5;241m.\u001b[39mitems() \u001b[38;5;28;01mif\u001b[39;00m k \u001b[38;5;129;01mnot\u001b[39;00m \u001b[38;5;129;01min\u001b[39;00m skip}))\n\u001b[0;32m   2230\u001b[0m \u001b[38;5;28;01melse\u001b[39;00m:  \u001b[38;5;66;03m# Let third-parties do as they see fit.\u001b[39;00m\n\u001b[0;32m   2231\u001b[0m     print_method \u001b[38;5;241m=\u001b[39m meth\n",
      "File \u001b[1;32m~\\anaconda3\\lib\\site-packages\\matplotlib\\backends\\backend_agg.py:509\u001b[0m, in \u001b[0;36mFigureCanvasAgg.print_png\u001b[1;34m(self, filename_or_obj, metadata, pil_kwargs)\u001b[0m\n\u001b[0;32m    462\u001b[0m \u001b[38;5;28;01mdef\u001b[39;00m \u001b[38;5;21mprint_png\u001b[39m(\u001b[38;5;28mself\u001b[39m, filename_or_obj, \u001b[38;5;241m*\u001b[39m, metadata\u001b[38;5;241m=\u001b[39m\u001b[38;5;28;01mNone\u001b[39;00m, pil_kwargs\u001b[38;5;241m=\u001b[39m\u001b[38;5;28;01mNone\u001b[39;00m):\n\u001b[0;32m    463\u001b[0m     \u001b[38;5;124;03m\"\"\"\u001b[39;00m\n\u001b[0;32m    464\u001b[0m \u001b[38;5;124;03m    Write the figure to a PNG file.\u001b[39;00m\n\u001b[0;32m    465\u001b[0m \n\u001b[1;32m   (...)\u001b[0m\n\u001b[0;32m    507\u001b[0m \u001b[38;5;124;03m        *metadata*, including the default 'Software' key.\u001b[39;00m\n\u001b[0;32m    508\u001b[0m \u001b[38;5;124;03m    \"\"\"\u001b[39;00m\n\u001b[1;32m--> 509\u001b[0m     \u001b[38;5;28;43mself\u001b[39;49m\u001b[38;5;241;43m.\u001b[39;49m\u001b[43m_print_pil\u001b[49m\u001b[43m(\u001b[49m\u001b[43mfilename_or_obj\u001b[49m\u001b[43m,\u001b[49m\u001b[43m \u001b[49m\u001b[38;5;124;43m\"\u001b[39;49m\u001b[38;5;124;43mpng\u001b[39;49m\u001b[38;5;124;43m\"\u001b[39;49m\u001b[43m,\u001b[49m\u001b[43m \u001b[49m\u001b[43mpil_kwargs\u001b[49m\u001b[43m,\u001b[49m\u001b[43m \u001b[49m\u001b[43mmetadata\u001b[49m\u001b[43m)\u001b[49m\n",
      "File \u001b[1;32m~\\anaconda3\\lib\\site-packages\\matplotlib\\backends\\backend_agg.py:458\u001b[0m, in \u001b[0;36mFigureCanvasAgg._print_pil\u001b[1;34m(self, filename_or_obj, fmt, pil_kwargs, metadata)\u001b[0m\n\u001b[0;32m    453\u001b[0m \u001b[38;5;124;03m\"\"\"\u001b[39;00m\n\u001b[0;32m    454\u001b[0m \u001b[38;5;124;03mDraw the canvas, then save it using `.image.imsave` (to which\u001b[39;00m\n\u001b[0;32m    455\u001b[0m \u001b[38;5;124;03m*pil_kwargs* and *metadata* are forwarded).\u001b[39;00m\n\u001b[0;32m    456\u001b[0m \u001b[38;5;124;03m\"\"\"\u001b[39;00m\n\u001b[0;32m    457\u001b[0m FigureCanvasAgg\u001b[38;5;241m.\u001b[39mdraw(\u001b[38;5;28mself\u001b[39m)\n\u001b[1;32m--> 458\u001b[0m \u001b[43mmpl\u001b[49m\u001b[38;5;241;43m.\u001b[39;49m\u001b[43mimage\u001b[49m\u001b[38;5;241;43m.\u001b[39;49m\u001b[43mimsave\u001b[49m\u001b[43m(\u001b[49m\n\u001b[0;32m    459\u001b[0m \u001b[43m    \u001b[49m\u001b[43mfilename_or_obj\u001b[49m\u001b[43m,\u001b[49m\u001b[43m \u001b[49m\u001b[38;5;28;43mself\u001b[39;49m\u001b[38;5;241;43m.\u001b[39;49m\u001b[43mbuffer_rgba\u001b[49m\u001b[43m(\u001b[49m\u001b[43m)\u001b[49m\u001b[43m,\u001b[49m\u001b[43m \u001b[49m\u001b[38;5;28;43mformat\u001b[39;49m\u001b[38;5;241;43m=\u001b[39;49m\u001b[43mfmt\u001b[49m\u001b[43m,\u001b[49m\u001b[43m \u001b[49m\u001b[43morigin\u001b[49m\u001b[38;5;241;43m=\u001b[39;49m\u001b[38;5;124;43m\"\u001b[39;49m\u001b[38;5;124;43mupper\u001b[39;49m\u001b[38;5;124;43m\"\u001b[39;49m\u001b[43m,\u001b[49m\n\u001b[0;32m    460\u001b[0m \u001b[43m    \u001b[49m\u001b[43mdpi\u001b[49m\u001b[38;5;241;43m=\u001b[39;49m\u001b[38;5;28;43mself\u001b[39;49m\u001b[38;5;241;43m.\u001b[39;49m\u001b[43mfigure\u001b[49m\u001b[38;5;241;43m.\u001b[39;49m\u001b[43mdpi\u001b[49m\u001b[43m,\u001b[49m\u001b[43m \u001b[49m\u001b[43mmetadata\u001b[49m\u001b[38;5;241;43m=\u001b[39;49m\u001b[43mmetadata\u001b[49m\u001b[43m,\u001b[49m\u001b[43m \u001b[49m\u001b[43mpil_kwargs\u001b[49m\u001b[38;5;241;43m=\u001b[39;49m\u001b[43mpil_kwargs\u001b[49m\u001b[43m)\u001b[49m\n",
      "File \u001b[1;32m~\\anaconda3\\lib\\site-packages\\matplotlib\\image.py:1687\u001b[0m, in \u001b[0;36mimsave\u001b[1;34m(fname, arr, vmin, vmax, cmap, format, origin, dpi, metadata, pil_kwargs)\u001b[0m\n\u001b[0;32m   1685\u001b[0m pil_kwargs\u001b[38;5;241m.\u001b[39msetdefault(\u001b[38;5;124m\"\u001b[39m\u001b[38;5;124mformat\u001b[39m\u001b[38;5;124m\"\u001b[39m, \u001b[38;5;28mformat\u001b[39m)\n\u001b[0;32m   1686\u001b[0m pil_kwargs\u001b[38;5;241m.\u001b[39msetdefault(\u001b[38;5;124m\"\u001b[39m\u001b[38;5;124mdpi\u001b[39m\u001b[38;5;124m\"\u001b[39m, (dpi, dpi))\n\u001b[1;32m-> 1687\u001b[0m image\u001b[38;5;241m.\u001b[39msave(fname, \u001b[38;5;241m*\u001b[39m\u001b[38;5;241m*\u001b[39mpil_kwargs)\n",
      "File \u001b[1;32m~\\anaconda3\\lib\\site-packages\\PIL\\Image.py:2428\u001b[0m, in \u001b[0;36mImage.save\u001b[1;34m(self, fp, format, **params)\u001b[0m\n\u001b[0;32m   2426\u001b[0m         fp \u001b[38;5;241m=\u001b[39m builtins\u001b[38;5;241m.\u001b[39mopen(filename, \u001b[38;5;124m\"\u001b[39m\u001b[38;5;124mr+b\u001b[39m\u001b[38;5;124m\"\u001b[39m)\n\u001b[0;32m   2427\u001b[0m     \u001b[38;5;28;01melse\u001b[39;00m:\n\u001b[1;32m-> 2428\u001b[0m         fp \u001b[38;5;241m=\u001b[39m \u001b[43mbuiltins\u001b[49m\u001b[38;5;241;43m.\u001b[39;49m\u001b[43mopen\u001b[49m\u001b[43m(\u001b[49m\u001b[43mfilename\u001b[49m\u001b[43m,\u001b[49m\u001b[43m \u001b[49m\u001b[38;5;124;43m\"\u001b[39;49m\u001b[38;5;124;43mw+b\u001b[39;49m\u001b[38;5;124;43m\"\u001b[39;49m\u001b[43m)\u001b[49m\n\u001b[0;32m   2430\u001b[0m \u001b[38;5;28;01mtry\u001b[39;00m:\n\u001b[0;32m   2431\u001b[0m     save_handler(\u001b[38;5;28mself\u001b[39m, fp, filename)\n",
      "\u001b[1;31mFileNotFoundError\u001b[0m: [Errno 2] No such file or directory: 'C:\\\\Users\\\\Admin\\\\Desktop\\\\my_plot5.png'"
     ]
    },
    {
     "data": {
      "image/png": "[encoded data removed]",
      "text/plain": [
       "<Figure size 2000x2000 with 4 Axes>"
      ]
     },
     "metadata": {},
     "output_type": "display_data"
    }
   ],
   "source": [
    "import matplotlib.pyplot as plt\n",
    "\n",
    "# Drop the entry_id column\n",
    "defaulter_df_clean = defaulter_df.drop(columns=['entry_id'])\n",
    "\n",
    "# Plot histograms for all numeric columns except entry_id\n",
    "defaulter_df_clean.hist(bins=30, figsize=(20, 20), color='b')\n",
    "\n",
    "# Save before showing\n",
    "plt.savefig('C:\\\\Users\\\\Admin\\\\Desktop\\\\my_plot5.png')\n",
    "\n",
    "# Display the histograms\n",
    "plt.show()\n"
   ]
  },
  {
   "cell_type": "code",
   "execution_count": 15,
   "id": "cf7a01ba-55a5-447e-8170-e8972bceabe0",
   "metadata": {},
   "outputs": [
    {
     "data": {
      "text/html": [
       "<div>\n",
       "<style scoped>\n",
       "    .dataframe tbody tr th:only-of-type {\n",
       "        vertical-align: middle;\n",
       "    }\n",
       "\n",
       "    .dataframe tbody tr th {\n",
       "        vertical-align: top;\n",
       "    }\n",
       "\n",
       "    .dataframe thead th {\n",
       "        text-align: right;\n",
       "    }\n",
       "</style>\n",
       "<table border=\"1\" class=\"dataframe\">\n",
       "  <thead>\n",
       "    <tr style=\"text-align: right;\">\n",
       "      <th></th>\n",
       "      <th>soilMoisture</th>\n",
       "      <th>fTemperature</th>\n",
       "      <th>Light Intensity</th>\n",
       "      <th>label</th>\n",
       "    </tr>\n",
       "  </thead>\n",
       "  <tbody>\n",
       "    <tr>\n",
       "      <th>soilMoisture</th>\n",
       "      <td>1.000000</td>\n",
       "      <td>-0.033439</td>\n",
       "      <td>0.912469</td>\n",
       "      <td>-0.932414</td>\n",
       "    </tr>\n",
       "    <tr>\n",
       "      <th>fTemperature</th>\n",
       "      <td>-0.033439</td>\n",
       "      <td>1.000000</td>\n",
       "      <td>-0.013480</td>\n",
       "      <td>-0.001932</td>\n",
       "    </tr>\n",
       "    <tr>\n",
       "      <th>Light Intensity</th>\n",
       "      <td>0.912469</td>\n",
       "      <td>-0.013480</td>\n",
       "      <td>1.000000</td>\n",
       "      <td>-0.957220</td>\n",
       "    </tr>\n",
       "    <tr>\n",
       "      <th>label</th>\n",
       "      <td>-0.932414</td>\n",
       "      <td>-0.001932</td>\n",
       "      <td>-0.957220</td>\n",
       "      <td>1.000000</td>\n",
       "    </tr>\n",
       "  </tbody>\n",
       "</table>\n",
       "</div>"
      ],
      "text/plain": [
       "                 soilMoisture  fTemperature  Light Intensity     label\n",
       "soilMoisture         1.000000     -0.033439         0.912469 -0.932414\n",
       "fTemperature        -0.033439      1.000000        -0.013480 -0.001932\n",
       "Light Intensity      0.912469     -0.013480         1.000000 -0.957220\n",
       "label               -0.932414     -0.001932        -0.957220  1.000000"
      ]
     },
     "execution_count": 15,
     "metadata": {},
     "output_type": "execute_result"
    }
   ],
   "source": [
    "cn1 = defaulter_df.drop(columns=['entry_id']).select_dtypes(include='number').corr()\n",
    "cn1\n"
   ]
  },
  {
   "cell_type": "code",
   "execution_count": 16,
   "id": "53393970-e058-4574-bf7c-d2f1e5ff60bb",
   "metadata": {},
   "outputs": [
    {
     "data": {
      "image/png": "[encoded data removed]",
      "text/plain": [
       "<Figure size 1800x1800 with 2 Axes>"
      ]
     },
     "metadata": {},
     "output_type": "display_data"
    }
   ],
   "source": [
    "cmap=sns.diverging_palette(260,-10,s=50, l=75, n=6,\n",
    "as_cmap=True)\n",
    "plt.subplots(figsize=(18,18))\n",
    "sns.heatmap(cn1,cmap=cmap,annot=False, square=True)\n",
    "plt.show()"
   ]
  },
  {
   "cell_type": "code",
   "execution_count": 17,
   "id": "f4b6ae9d-5f22-4e3a-9359-828e51497323",
   "metadata": {},
   "outputs": [],
   "source": [
    "# First clean column names\n",
    "defaulter_df.columns = defaulter_df.columns.str.strip()\n",
    "\n",
    "# Define features and target\n",
    "X = defaulter_df[[\"soilMoisture\", \"fTemperature\",  \"Light Intensity\"]]\n",
    "y = defaulter_df[\"label\"]\n"
   ]
  },
  {
   "cell_type": "code",
   "execution_count": 18,
   "id": "2d14ae6b-4b1a-4fba-bd58-9e425ebe3a28",
   "metadata": {},
   "outputs": [
    {
     "name": "stdout",
     "output_type": "stream",
     "text": [
      "Size of training data :  77\n",
      "Size of test data :  20\n"
     ]
    }
   ],
   "source": [
    "from sklearn.model_selection import train_test_split\n",
    "X_train, X_test, y_train, y_test = train_test_split(X,y, test_size = 0.2, random_state = 42)\n",
    "print(\"Size of training data : \", X_train.shape[0])\n",
    "print(\"Size of test data : \", X_test.shape[0])"
   ]
  },
  {
   "cell_type": "code",
   "execution_count": 19,
   "id": "4c72ea8d-5f49-480c-b419-3ada46ce71c6",
   "metadata": {},
   "outputs": [
    {
     "data": {
      "text/plain": [
       "array([[1.        , 0.88888889, 1.        ],\n",
       "       [0.        , 0.        , 0.        ],\n",
       "       [1.        , 0.66666667, 1.        ],\n",
       "       [0.        , 0.66666667, 0.        ],\n",
       "       [1.        , 0.33333333, 1.        ],\n",
       "       [1.        , 0.11111111, 0.        ],\n",
       "       [1.        , 0.        , 1.        ],\n",
       "       [0.        , 0.33333333, 0.        ],\n",
       "       [0.        , 0.44444444, 0.        ],\n",
       "       [0.        , 0.22222222, 0.        ],\n",
       "       [0.        , 0.55555556, 0.        ],\n",
       "       [0.5       , 1.        , 0.5       ],\n",
       "       [0.        , 0.        , 0.        ],\n",
       "       [0.        , 0.66666667, 0.        ],\n",
       "       [0.        , 0.88888889, 0.        ],\n",
       "       [0.        , 0.66666667, 0.        ],\n",
       "       [0.        , 1.        , 0.        ],\n",
       "       [0.        , 1.        , 0.        ],\n",
       "       [0.        , 1.        , 0.5       ],\n",
       "       [1.        , 0.44444444, 0.5       ]])"
      ]
     },
     "execution_count": 19,
     "metadata": {},
     "output_type": "execute_result"
    }
   ],
   "source": [
    "from sklearn.preprocessing import MinMaxScaler\n",
    "min_max = MinMaxScaler()\n",
    "min_max.fit(X_train)\n",
    "train_transformed = min_max.transform(X_train)\n",
    "transformed = min_max.transform(X_test)\n",
    "transformed"
   ]
  },
  {
   "cell_type": "code",
   "execution_count": 20,
   "id": "1bca4020-85ef-4dbe-b90b-b61bf000d7e1",
   "metadata": {},
   "outputs": [
    {
     "data": {
      "text/html": [
       "<div>\n",
       "<style scoped>\n",
       "    .dataframe tbody tr th:only-of-type {\n",
       "        vertical-align: middle;\n",
       "    }\n",
       "\n",
       "    .dataframe tbody tr th {\n",
       "        vertical-align: top;\n",
       "    }\n",
       "\n",
       "    .dataframe thead th {\n",
       "        text-align: right;\n",
       "    }\n",
       "</style>\n",
       "<table border=\"1\" class=\"dataframe\">\n",
       "  <thead>\n",
       "    <tr style=\"text-align: right;\">\n",
       "      <th></th>\n",
       "      <th>soilMoisture</th>\n",
       "      <th>fTemperature</th>\n",
       "      <th>Light Intensity</th>\n",
       "    </tr>\n",
       "  </thead>\n",
       "  <tbody>\n",
       "    <tr>\n",
       "      <th>62</th>\n",
       "      <td>2</td>\n",
       "      <td>25.3</td>\n",
       "      <td>2</td>\n",
       "    </tr>\n",
       "    <tr>\n",
       "      <th>40</th>\n",
       "      <td>0</td>\n",
       "      <td>24.5</td>\n",
       "      <td>0</td>\n",
       "    </tr>\n",
       "    <tr>\n",
       "      <th>93</th>\n",
       "      <td>2</td>\n",
       "      <td>25.1</td>\n",
       "      <td>2</td>\n",
       "    </tr>\n",
       "    <tr>\n",
       "      <th>18</th>\n",
       "      <td>0</td>\n",
       "      <td>25.1</td>\n",
       "      <td>0</td>\n",
       "    </tr>\n",
       "    <tr>\n",
       "      <th>81</th>\n",
       "      <td>2</td>\n",
       "      <td>24.8</td>\n",
       "      <td>2</td>\n",
       "    </tr>\n",
       "  </tbody>\n",
       "</table>\n",
       "</div>"
      ],
      "text/plain": [
       "    soilMoisture  fTemperature  Light Intensity\n",
       "62             2          25.3                2\n",
       "40             0          24.5                0\n",
       "93             2          25.1                2\n",
       "18             0          25.1                0\n",
       "81             2          24.8                2"
      ]
     },
     "execution_count": 20,
     "metadata": {},
     "output_type": "execute_result"
    }
   ],
   "source": [
    "X_train[\"soilMoisture_normalized\"] = train_transformed[:, 0]\n",
    "X_train[\"fTemperature_normalized\"] = train_transformed[:, 1]\n",
    "\n",
    "X_train[\"Light_Intensity_normalized\"] = train_transformed[:, 2]\n",
    "X_test.head()"
   ]
  },
  {
   "cell_type": "code",
   "execution_count": 21,
   "id": "7d9df0ec-eccd-461e-bfe8-37e815b5dcf9",
   "metadata": {},
   "outputs": [
    {
     "data": {
      "text/html": [
       "<div>\n",
       "<style scoped>\n",
       "    .dataframe tbody tr th:only-of-type {\n",
       "        vertical-align: middle;\n",
       "    }\n",
       "\n",
       "    .dataframe tbody tr th {\n",
       "        vertical-align: top;\n",
       "    }\n",
       "\n",
       "    .dataframe thead th {\n",
       "        text-align: right;\n",
       "    }\n",
       "</style>\n",
       "<table border=\"1\" class=\"dataframe\">\n",
       "  <thead>\n",
       "    <tr style=\"text-align: right;\">\n",
       "      <th></th>\n",
       "      <th>soilMoisture</th>\n",
       "      <th>fTemperature</th>\n",
       "      <th>Light Intensity</th>\n",
       "      <th>soilMoisture_normalized</th>\n",
       "      <th>fTemperature_normalized</th>\n",
       "      <th>Light_Intensity_normalized</th>\n",
       "    </tr>\n",
       "  </thead>\n",
       "  <tbody>\n",
       "    <tr>\n",
       "      <th>62</th>\n",
       "      <td>2</td>\n",
       "      <td>25.3</td>\n",
       "      <td>2</td>\n",
       "      <td>1.0</td>\n",
       "      <td>0.888889</td>\n",
       "      <td>1.0</td>\n",
       "    </tr>\n",
       "    <tr>\n",
       "      <th>40</th>\n",
       "      <td>0</td>\n",
       "      <td>24.5</td>\n",
       "      <td>0</td>\n",
       "      <td>0.0</td>\n",
       "      <td>0.000000</td>\n",
       "      <td>0.0</td>\n",
       "    </tr>\n",
       "    <tr>\n",
       "      <th>93</th>\n",
       "      <td>2</td>\n",
       "      <td>25.1</td>\n",
       "      <td>2</td>\n",
       "      <td>1.0</td>\n",
       "      <td>0.666667</td>\n",
       "      <td>1.0</td>\n",
       "    </tr>\n",
       "    <tr>\n",
       "      <th>18</th>\n",
       "      <td>0</td>\n",
       "      <td>25.1</td>\n",
       "      <td>0</td>\n",
       "      <td>0.0</td>\n",
       "      <td>0.666667</td>\n",
       "      <td>0.0</td>\n",
       "    </tr>\n",
       "    <tr>\n",
       "      <th>81</th>\n",
       "      <td>2</td>\n",
       "      <td>24.8</td>\n",
       "      <td>2</td>\n",
       "      <td>1.0</td>\n",
       "      <td>0.333333</td>\n",
       "      <td>1.0</td>\n",
       "    </tr>\n",
       "  </tbody>\n",
       "</table>\n",
       "</div>"
      ],
      "text/plain": [
       "    soilMoisture  fTemperature  Light Intensity  soilMoisture_normalized  \\\n",
       "62             2          25.3                2                      1.0   \n",
       "40             0          24.5                0                      0.0   \n",
       "93             2          25.1                2                      1.0   \n",
       "18             0          25.1                0                      0.0   \n",
       "81             2          24.8                2                      1.0   \n",
       "\n",
       "    fTemperature_normalized  Light_Intensity_normalized  \n",
       "62                 0.888889                         1.0  \n",
       "40                 0.000000                         0.0  \n",
       "93                 0.666667                         1.0  \n",
       "18                 0.666667                         0.0  \n",
       "81                 0.333333                         1.0  "
      ]
     },
     "execution_count": 21,
     "metadata": {},
     "output_type": "execute_result"
    }
   ],
   "source": [
    "X_test[\"soilMoisture_normalized\"] = transformed[:, 0]\n",
    "X_test[\"fTemperature_normalized\"] = transformed[:, 1]\n",
    "\n",
    "X_test[\"Light_Intensity_normalized\"] = transformed[:,2 ]\n",
    "\n",
    "X_test.head()"
   ]
  },
  {
   "cell_type": "code",
   "execution_count": 22,
   "id": "2190b74d-c04f-4682-8c82-c4746ff8ab1a",
   "metadata": {},
   "outputs": [],
   "source": [
    "from sklearn.neighbors import KNeighborsClassifier\n",
    "from sklearn.metrics import accuracy_score"
   ]
  },
  {
   "cell_type": "code",
   "execution_count": 23,
   "id": "f497d3af-2940-4f43-94b7-15b5ad6a47dd",
   "metadata": {},
   "outputs": [
    {
     "name": "stdout",
     "output_type": "stream",
     "text": [
      "Test accuracy: 0.95\n"
     ]
    }
   ],
   "source": [
    "\n",
    "from sklearn.neighbors import KNeighborsClassifier\n",
    "from sklearn.metrics import accuracy_score\n",
    "\n",
    "# Strip extra spaces from column names (do this once)\n",
    "X_train.columns = X_train.columns.str.strip()\n",
    "X_test.columns = X_test.columns.str.strip()\n",
    "\n",
    "# Initialize KNN model\n",
    "knn = KNeighborsClassifier(n_neighbors=3, metric=\"euclidean\")\n",
    "\n",
    "# Fit using actual column names from your dataset\n",
    "features = [\"soilMoisture\", \"fTemperature\",  \"Light Intensity\"]\n",
    "knn.fit(X_train[features], y_train)\n",
    "\n",
    "# Predict\n",
    "predictions = knn.predict(X_test[features])\n",
    "\n",
    "# Accuracy\n",
    "test_accuracy = accuracy_score(y_test, predictions)\n",
    "print(\"Test accuracy:\", test_accuracy)\n"
   ]
  },
  {
   "cell_type": "code",
   "execution_count": 24,
   "id": "0d76da83-fac9-4f2e-888a-d942bfdbb551",
   "metadata": {},
   "outputs": [
    {
     "name": "stdout",
     "output_type": "stream",
     "text": [
      "Test accuracy of Normalized data: 0.95\n"
     ]
    }
   ],
   "source": [
    "knn =  KNeighborsClassifier(n_neighbors = 3, metric = \"euclidean\")\n",
    "knn.fit(X_train[[\"soilMoisture_normalized\", \"fTemperature_normalized\", \n",
    "                          \"Light_Intensity_normalized\"]], y_train)\n",
    "predictions = knn.predict(X_test[[\"soilMoisture_normalized\", \"fTemperature_normalized\", \n",
    "                          \n",
    "                          \"Light_Intensity_normalized\"]])\n",
    "test_accuracy = accuracy_score(y_test, predictions)\n",
    "print(\"Test accuracy of Normalized data:\", test_accuracy)"
   ]
  },
  {
   "cell_type": "code",
   "execution_count": 25,
   "id": "99bba1d3-782b-4d95-b65b-78af7d3a565c",
   "metadata": {},
   "outputs": [
    {
     "name": "stdout",
     "output_type": "stream",
     "text": [
      "              precision    recall  f1-score   support\n",
      "\n",
      "           0       0.86      1.00      0.92         6\n",
      "           1       1.00      0.93      0.96        14\n",
      "\n",
      "    accuracy                           0.95        20\n",
      "   macro avg       0.93      0.96      0.94        20\n",
      "weighted avg       0.96      0.95      0.95        20\n",
      "\n"
     ]
    }
   ],
   "source": [
    "from sklearn.metrics import confusion_matrix \n",
    "from sklearn.metrics import classification_report\n",
    "print(classification_report(y_test,predictions))"
   ]
  },
  {
   "cell_type": "code",
   "execution_count": 26,
   "id": "395fb920-89d0-48ce-a723-530568b81714",
   "metadata": {},
   "outputs": [
    {
     "name": "stdout",
     "output_type": "stream",
     "text": [
      "soilMoisture                    int64\n",
      "fTemperature                  float64\n",
      "Light Intensity                 int64\n",
      "soilMoisture_normalized       float64\n",
      "fTemperature_normalized       float64\n",
      "Light_Intensity_normalized    float64\n",
      "dtype: object\n",
      "    soilMoisture  fTemperature  Light Intensity  soilMoisture_normalized  \\\n",
      "49             0          25.0                0                      0.0   \n",
      "70             2          25.3                2                      1.0   \n",
      "68             2          24.7                2                      1.0   \n",
      "15             0          25.4                0                      0.0   \n",
      "39             0          25.2                0                      0.0   \n",
      "\n",
      "    fTemperature_normalized  Light_Intensity_normalized  \n",
      "49                 0.555556                         0.0  \n",
      "70                 0.888889                         1.0  \n",
      "68                 0.222222                         1.0  \n",
      "15                 1.000000                         0.0  \n",
      "39                 0.777778                         0.0  \n",
      "Before undersampling:\n",
      " label\n",
      "1    47\n",
      "0    30\n",
      "Name: count, dtype: int64\n",
      "After undersampling:\n",
      " label\n",
      "0    30\n",
      "1    30\n",
      "Name: count, dtype: int64\n"
     ]
    }
   ],
   "source": [
    "from imblearn.under_sampling import RandomUnderSampler\n",
    "\n",
    "print(X_train.dtypes)\n",
    "print(X_train.head())\n",
    "\n",
    "\n",
    "# Keep only numeric columns\n",
    "X_train_clean = X_train.select_dtypes(include='number')\n",
    "\n",
    "# Drop rows with NaNs\n",
    "X_train_clean = X_train_clean.dropna()\n",
    "y_train_clean = y_train[X_train_clean.index]  # align indices\n",
    "\n",
    "# Reset index for safety\n",
    "X_train_clean = X_train_clean.reset_index(drop=True)\n",
    "y_train_clean = y_train_clean.reset_index(drop=True)\n",
    "\n",
    "# Now apply undersampling\n",
    "print(\"Before undersampling:\\n\", y_train_clean.value_counts())\n",
    "under = RandomUnderSampler(random_state=42, replacement=True)\n",
    "X_under, y_under = under.fit_resample(X_train_clean, y_train_clean)\n",
    "print(\"After undersampling:\\n\", y_under.value_counts())\n"
   ]
  },
  {
   "cell_type": "code",
   "execution_count": 27,
   "id": "b7e72a26-14b1-47c0-8401-70be9b55b4f7",
   "metadata": {},
   "outputs": [],
   "source": [
    "#pip install imbalanced-learn\n"
   ]
  },
  {
   "cell_type": "code",
   "execution_count": 28,
   "id": "f617ea79",
   "metadata": {},
   "outputs": [
    {
     "name": "stdout",
     "output_type": "stream",
     "text": [
      "Original label distribution:\n",
      "label\n",
      "1    61\n",
      "0    36\n",
      "Name: count, dtype: int64\n"
     ]
    }
   ],
   "source": [
    "print(\"Original label distribution:\")\n",
    "print(y.value_counts())\n"
   ]
  },
  {
   "cell_type": "code",
   "execution_count": 29,
   "id": "abbf6f6b-3f83-451c-b00e-13d775276dd8",
   "metadata": {},
   "outputs": [
    {
     "name": "stdout",
     "output_type": "stream",
     "text": [
      "After undersampling: \n",
      " label\n",
      "1    47\n",
      "0    30\n",
      "Name: count, dtype: int64\n"
     ]
    }
   ],
   "source": [
    "print(\"After undersampling: \\n\", y_train_clean.value_counts())"
   ]
  },
  {
   "cell_type": "code",
   "execution_count": 30,
   "id": "ad273576-976a-4efe-94cf-efc627983d8f",
   "metadata": {},
   "outputs": [
    {
     "data": {
      "text/plain": [
       "0.95"
      ]
     },
     "execution_count": 30,
     "metadata": {},
     "output_type": "execute_result"
    }
   ],
   "source": [
    "knn =  KNeighborsClassifier(n_neighbors = 3, metric = \"euclidean\")\n",
    "knn.fit(X_train[[\"soilMoisture_normalized\", \"fTemperature_normalized\", \n",
    "                           \n",
    "                          \"Light_Intensity_normalized\"]], y_train)\n",
    "predictions = knn.predict(X_test[[\"soilMoisture_normalized\", \"fTemperature_normalized\", \n",
    "                          \n",
    "                          \"Light_Intensity_normalized\"]])\n",
    "test_accuracy = accuracy_score(y_test, predictions)\n",
    "test_accuracy"
   ]
  },
  {
   "cell_type": "code",
   "execution_count": 31,
   "id": "3103b06c-2911-4090-97bf-dde64a89d5ba",
   "metadata": {},
   "outputs": [
    {
     "name": "stdout",
     "output_type": "stream",
     "text": [
      "              precision    recall  f1-score   support\n",
      "\n",
      "           0       0.86      1.00      0.92         6\n",
      "           1       1.00      0.93      0.96        14\n",
      "\n",
      "    accuracy                           0.95        20\n",
      "   macro avg       0.93      0.96      0.94        20\n",
      "weighted avg       0.96      0.95      0.95        20\n",
      "\n"
     ]
    }
   ],
   "source": [
    "print(classification_report(y_test,predictions))\n"
   ]
  },
  {
   "cell_type": "code",
   "execution_count": 32,
   "id": "7ca7e5ae",
   "metadata": {},
   "outputs": [
    {
     "name": "stdout",
     "output_type": "stream",
     "text": [
      "['soilMoisture', 'fTemperature', 'Light Intensity', 'soilMoisture_normalized', 'fTemperature_normalized', 'Light_Intensity_normalized']\n",
      "              precision    recall  f1-score   support\n",
      "\n",
      "           0       0.86      1.00      0.92         6\n",
      "           1       1.00      0.93      0.96        14\n",
      "\n",
      "    accuracy                           0.95        20\n",
      "   macro avg       0.93      0.96      0.94        20\n",
      "weighted avg       0.96      0.95      0.95        20\n",
      "\n"
     ]
    }
   ],
   "source": [
    "from sklearn.linear_model import LogisticRegression\n",
    "from sklearn.metrics import accuracy_score\n",
    "print(X_train.columns.tolist())\n",
    "\n",
    "log_clf_balanced = LogisticRegression(class_weight = \"balanced\")\n",
    "log_clf_balanced.fit(X_train[[\"soilMoisture_normalized\", \"fTemperature_normalized\", \n",
    "                         \n",
    "                          \"Light_Intensity_normalized\"]], y_train)\n",
    "predictions = log_clf_balanced.predict(X_test[[\"soilMoisture_normalized\", \"fTemperature_normalized\", \n",
    "                                                \n",
    "                                               \"Light_Intensity_normalized\"]])\n",
    "\n",
    "test_accuracy = accuracy_score(y_test, predictions)\n",
    "test_accuracy\n",
    "print(classification_report(y_test,predictions))"
   ]
  },
  {
   "cell_type": "code",
   "execution_count": 33,
   "id": "876cc198-320c-49a1-ae42-33a36b4eb6ce",
   "metadata": {},
   "outputs": [
    {
     "name": "stdout",
     "output_type": "stream",
     "text": [
      "['soilMoisture', 'fTemperature', 'Light Intensity', 'soilMoisture_normalized', 'fTemperature_normalized', 'Light_Intensity_normalized']\n",
      "Test Accuracy: 0.95\n"
     ]
    }
   ],
   "source": [
    "from sklearn.tree import DecisionTreeClassifier\n",
    "from sklearn.metrics import accuracy_score\n",
    "print(X_train.columns.tolist())\n",
    "\n",
    "# Ensure your DataFrames have these columns:\n",
    "features_norm = [\n",
    "   \"soilMoisture_normalized\", \"fTemperature_normalized\", \n",
    "                          \n",
    "                          \"Light_Intensity_normalized\"\n",
    "]\n",
    "\n",
    "# 1. Initialize\n",
    "dt_clf_balanced = DecisionTreeClassifier(class_weight=\"balanced\", random_state=42)\n",
    "\n",
    "# 2. Train\n",
    "dt_clf_balanced.fit(X_train[features_norm], y_train)\n",
    "\n",
    "# 3. Predict (use the exact same features)\n",
    "predictions = dt_clf_balanced.predict(X_test[features_norm])\n",
    "\n",
    "# 4. Evaluate\n",
    "test_accuracy = accuracy_score(y_test, predictions)\n",
    "print(\"Test Accuracy:\", test_accuracy)\n"
   ]
  },
  {
   "cell_type": "code",
   "execution_count": 34,
   "id": "4cb9c090-6c88-47c9-acc4-a7eed4cf1c7f",
   "metadata": {},
   "outputs": [
    {
     "name": "stdout",
     "output_type": "stream",
     "text": [
      "              precision    recall  f1-score   support\n",
      "\n",
      "           0       0.86      1.00      0.92         6\n",
      "           1       1.00      0.93      0.96        14\n",
      "\n",
      "    accuracy                           0.95        20\n",
      "   macro avg       0.93      0.96      0.94        20\n",
      "weighted avg       0.96      0.95      0.95        20\n",
      "\n"
     ]
    }
   ],
   "source": [
    "print(classification_report(y_test,predictions))"
   ]
  },
  {
   "cell_type": "code",
   "execution_count": 35,
   "id": "2b64c8c8-8d2a-48da-a2dd-af0cdbd03596",
   "metadata": {},
   "outputs": [
    {
     "name": "stdout",
     "output_type": "stream",
     "text": [
      "Accuracy: 0.9\n",
      "              precision    recall  f1-score   support\n",
      "\n",
      "           0       0.75      1.00      0.86         6\n",
      "           1       1.00      0.86      0.92        14\n",
      "\n",
      "    accuracy                           0.90        20\n",
      "   macro avg       0.88      0.93      0.89        20\n",
      "weighted avg       0.93      0.90      0.90        20\n",
      "\n"
     ]
    }
   ],
   "source": [
    "from sklearn.naive_bayes import GaussianNB\n",
    "from sklearn.metrics import accuracy_score, classification_report\n",
    "\n",
    "# Use the normalized features\n",
    "features_norm = [\n",
    "   \"soilMoisture_normalized\", \"fTemperature_normalized\", \n",
    "                        \n",
    "                          \"Light_Intensity_normalized\"\n",
    "]\n",
    "# Initialize and train model\n",
    "gnb = GaussianNB()\n",
    "gnb.fit(X_train[features_norm], y_train)\n",
    "\n",
    "# Predict\n",
    "predictions = gnb.predict(X_test[features_norm])\n",
    "\n",
    "# Evaluate\n",
    "print(\"Accuracy:\", accuracy_score(y_test, predictions))\n",
    "print(classification_report(y_test, predictions))\n"
   ]
  },
  {
   "cell_type": "code",
   "execution_count": null,
   "id": "5963fe60-7687-474c-a04d-81a8eeaff870",
   "metadata": {},
   "outputs": [],
   "source": []
  },
  {
   "cell_type": "code",
   "execution_count": 36,
   "id": "12118402-3d52-429c-8802-dff0c9de8d34",
   "metadata": {},
   "outputs": [
    {
     "name": "stdout",
     "output_type": "stream",
     "text": [
      "Test Accuracy: 0.9\n"
     ]
    }
   ],
   "source": [
    "from sklearn.svm import SVC\n",
    "from sklearn.metrics import accuracy_score\n",
    "features_norm = [\n",
    "   \"soilMoisture_normalized\", \"fTemperature_normalized\", \n",
    "                          \n",
    "                          \"Light_Intensity_normalized\"\n",
    "]\n",
    "# Initialize the Support Vector Classifier\n",
    "svc = SVC()\n",
    "\n",
    "# Train the classifier on the training data\n",
    "svc.fit(X_train[features_norm], y_train)\n",
    "\n",
    "# Make predictions on the test data\n",
    "predictions = svc.predict(X_test[features_norm])\n",
    "\n",
    "# Calculate accuracy\n",
    "test_accuracy = accuracy_score(y_test, predictions)\n",
    "print(\"Test Accuracy:\", test_accuracy)"
   ]
  },
  {
   "cell_type": "code",
   "execution_count": 37,
   "id": "6e98ca5a-83b3-4f2c-8b0e-0805f6a0cddd",
   "metadata": {},
   "outputs": [
    {
     "name": "stdout",
     "output_type": "stream",
     "text": [
      "              precision    recall  f1-score   support\n",
      "\n",
      "           0       0.75      1.00      0.86         6\n",
      "           1       1.00      0.86      0.92        14\n",
      "\n",
      "    accuracy                           0.90        20\n",
      "   macro avg       0.88      0.93      0.89        20\n",
      "weighted avg       0.93      0.90      0.90        20\n",
      "\n"
     ]
    }
   ],
   "source": [
    "print(classification_report(y_test,predictions))"
   ]
  },
  {
   "cell_type": "code",
   "execution_count": 38,
   "id": "2ca1e20a-bdce-43a1-92f9-34218d7f8f93",
   "metadata": {},
   "outputs": [
    {
     "name": "stdout",
     "output_type": "stream",
     "text": [
      "Test Accuracy: 0.95\n"
     ]
    }
   ],
   "source": [
    "from sklearn.ensemble import RandomForestClassifier\n",
    "from sklearn.metrics import accuracy_score\n",
    "features_norm = [\n",
    "   \"soilMoisture_normalized\", \"fTemperature_normalized\", \n",
    "                         \n",
    "                          \"Light_Intensity_normalized\"\n",
    "]\n",
    "# Initialize the Random Forest Classifier\n",
    "rf_classifier = RandomForestClassifier()\n",
    "\n",
    "# Train the classifier on the training data\n",
    "rf_classifier.fit(X_train[features_norm], y_train)\n",
    "\n",
    "# Make predictions on the test data\n",
    "predictions = rf_classifier.predict(X_test[features_norm])\n",
    "# Calculate accuracy\n",
    "test_accuracy = accuracy_score(y_test, predictions)\n",
    "print(\"Test Accuracy:\", test_accuracy)"
   ]
  },
  {
   "cell_type": "code",
   "execution_count": 39,
   "id": "82c9d343-352f-49ae-85d2-f57ca8a894d9",
   "metadata": {},
   "outputs": [
    {
     "name": "stdout",
     "output_type": "stream",
     "text": [
      "              precision    recall  f1-score   support\n",
      "\n",
      "           0       0.86      1.00      0.92         6\n",
      "           1       1.00      0.93      0.96        14\n",
      "\n",
      "    accuracy                           0.95        20\n",
      "   macro avg       0.93      0.96      0.94        20\n",
      "weighted avg       0.96      0.95      0.95        20\n",
      "\n"
     ]
    }
   ],
   "source": [
    "print(classification_report(y_test,predictions))"
   ]
  },
  {
   "cell_type": "code",
   "execution_count": 40,
   "id": "6868a9af-c424-4888-bdc5-0e68c486a5d5",
   "metadata": {},
   "outputs": [],
   "source": [
    "#!pip install xgboost"
   ]
  },
  {
   "cell_type": "code",
   "execution_count": 41,
   "id": "b476c924-42ae-4f60-a09c-8bd1bd7a4d63",
   "metadata": {},
   "outputs": [
    {
     "name": "stdout",
     "output_type": "stream",
     "text": [
      "XGBoost Test Accuracy: 0.95\n"
     ]
    }
   ],
   "source": [
    "import xgboost as xgb\n",
    "from sklearn.metrics import accuracy_score\n",
    "features = [\"soilMoisture_normalized\", \"fTemperature_normalized\", \n",
    "            \n",
    "            \"Light_Intensity_normalized\"]\n",
    "\n",
    "xgb_classifier = xgb.XGBClassifier()\n",
    "\n",
    "xgb_classifier.fit(\n",
    "    X=X_train[features].values,\n",
    "    y=y_train.values\n",
    ")\n",
    "\n",
    "predictions = xgb_classifier.predict(X_test[features].values)\n",
    "\n",
    "\n",
    "# Evaluate accuracy\n",
    "test_accuracy = accuracy_score(y_test, predictions)\n",
    "print(\"XGBoost Test Accuracy:\", test_accuracy)\n"
   ]
  },
  {
   "cell_type": "code",
   "execution_count": null,
   "id": "96f8f622-02fd-4762-8c0f-ca03e650ce8c",
   "metadata": {},
   "outputs": [],
   "source": []
  },
  {
   "cell_type": "code",
   "execution_count": 42,
   "id": "d126fe3e-0ef8-4592-85a7-2c2148fe3768",
   "metadata": {},
   "outputs": [
    {
     "name": "stdout",
     "output_type": "stream",
     "text": [
      "              precision    recall  f1-score   support\n",
      "\n",
      "           0       0.86      1.00      0.92         6\n",
      "           1       1.00      0.93      0.96        14\n",
      "\n",
      "    accuracy                           0.95        20\n",
      "   macro avg       0.93      0.96      0.94        20\n",
      "weighted avg       0.96      0.95      0.95        20\n",
      "\n"
     ]
    }
   ],
   "source": [
    "print(classification_report(y_test,predictions))"
   ]
  },
  {
   "cell_type": "code",
   "execution_count": null,
   "id": "e30c8d69-5735-4ea3-8475-800dcdb20925",
   "metadata": {},
   "outputs": [],
   "source": []
  },
  {
   "cell_type": "code",
   "execution_count": null,
   "id": "65283494-152f-43b1-9038-ee16395fd455",
   "metadata": {},
   "outputs": [],
   "source": []
  },
  {
   "cell_type": "code",
   "execution_count": null,
   "id": "f988fd9a-712e-4b30-a7a7-afc8cbd1154e",
   "metadata": {},
   "outputs": [],
   "source": []
  }
 ],
 "metadata": {
  "kernelspec": {
   "display_name": "Python 3 (ipykernel)",
   "language": "python",
   "name": "python3"
  },
  "language_info": {
   "codemirror_mode": {
    "name": "ipython",
    "version": 3
   },
   "file_extension": ".py",
   "mimetype": "text/x-python",
   "name": "python",
   "nbconvert_exporter": "python",
   "pygments_lexer": "ipython3",
   "version": "3.10.9"
  }
 },
 "nbformat": 4,
 "nbformat_minor": 5
}
